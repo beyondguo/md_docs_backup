{
 "cells": [
  {
   "cell_type": "markdown",
   "id": "27c9e44f-cf08-4a69-b027-9a72d40084e2",
   "metadata": {},
   "source": [
    "# MSRA 面试题\n",
    "\n",
    "- 2022.1.19\n",
    "- 面试老师：Bartuer Zhou\n",
    "- 整理：郭必扬\n",
    "\n",
    "### 题目：\n",
    "一副扑克（54张牌），现在又拿一副，随机抽一张，跟原来那副混在一起（即有55张牌），洗牌。\n",
    "\n",
    "要求：设计一个算法，把重复的牌找出来。"
   ]
  },
  {
   "cell_type": "code",
   "execution_count": 1,
   "id": "43c3e425-a53f-4efd-96a8-23be91a03a72",
   "metadata": {},
   "outputs": [],
   "source": [
    "# 翻译题目：\n",
    "import random\n",
    "m = 27  # 随机抽取的一张牌\n",
    "A = list(range(1,55))\n",
    "A.append(m)\n",
    "random.shuffle(A)"
   ]
  },
  {
   "cell_type": "markdown",
   "id": "5390ef26-5229-45a2-9a27-ea8415de0875",
   "metadata": {},
   "source": [
    "## 算法1：遍历计数法"
   ]
  },
  {
   "cell_type": "code",
   "execution_count": 2,
   "id": "e360d075-cef5-4d11-ace9-9b4cdc825201",
   "metadata": {},
   "outputs": [],
   "source": [
    "def f1(A):\n",
    "    for a in set(A):\n",
    "        c = A.count(a)\n",
    "        if c == 2:\n",
    "            return a\n",
    "    return -1\n",
    "\n",
    "assert f1(A) == m, 'wrong'"
   ]
  },
  {
   "cell_type": "markdown",
   "id": "ba159ed5-5912-4a0e-a415-0e0a9e7e722a",
   "metadata": {},
   "source": [
    "计算平均耗时："
   ]
  },
  {
   "cell_type": "code",
   "execution_count": 3,
   "id": "2e05a4f2-632e-455c-9446-c9ea3e7951b1",
   "metadata": {},
   "outputs": [
    {
     "name": "stdout",
     "output_type": "stream",
     "text": [
      "12.6 µs ± 52.8 ns per loop (mean ± std. dev. of 7 runs, 100000 loops each)\n"
     ]
    }
   ],
   "source": [
    "%timeit f1(A)"
   ]
  },
  {
   "cell_type": "markdown",
   "id": "59183540-b128-42a1-9775-c3c60775dd15",
   "metadata": {},
   "source": [
    "## 算法2：通过哈希表记录"
   ]
  },
  {
   "cell_type": "code",
   "execution_count": 15,
   "id": "c44064ab-480a-4276-b641-ef9dce37afb9",
   "metadata": {},
   "outputs": [],
   "source": [
    "def f2(A):\n",
    "    dic = {}\n",
    "    for a in A:\n",
    "        if a in dic:\n",
    "            return a\n",
    "        else:\n",
    "            dic[a] = 1\n",
    "    return -1\n",
    "\n",
    "assert f2(A) == m, 'wrong'"
   ]
  },
  {
   "cell_type": "markdown",
   "id": "09ec95bb-46be-4bd5-b58b-f55c690b8cae",
   "metadata": {},
   "source": [
    "计算平均耗时："
   ]
  },
  {
   "cell_type": "code",
   "execution_count": 16,
   "id": "3f189958-54a5-4c06-aff5-29944cf19244",
   "metadata": {},
   "outputs": [
    {
     "name": "stdout",
     "output_type": "stream",
     "text": [
      "2.1 µs ± 8.73 ns per loop (mean ± std. dev. of 7 runs, 100000 loops each)\n"
     ]
    }
   ],
   "source": [
    "%timeit f2(A)"
   ]
  },
  {
   "cell_type": "markdown",
   "id": "76f5ec3e-1c11-4c07-8e10-30c652648d04",
   "metadata": {},
   "source": [
    "## 算法3：巧妙利用问题特性\n",
    "原始的牌1-54的和是固定的，所以重复的那一张牌的数，就一定等于加牌后的求和减去原始的求和。"
   ]
  },
  {
   "cell_type": "code",
   "execution_count": 6,
   "id": "6c18078b-bcab-4f6b-ba3b-082bdaad3f3c",
   "metadata": {},
   "outputs": [],
   "source": [
    "n = sum(range(1,55))\n",
    "def f3(A):\n",
    "    return sum(A) - n\n",
    "\n",
    "assert f3(A) == m, 'wrong'"
   ]
  },
  {
   "cell_type": "code",
   "execution_count": 7,
   "id": "afc90666-be5a-4b37-96bd-46b21615a8ca",
   "metadata": {},
   "outputs": [
    {
     "name": "stdout",
     "output_type": "stream",
     "text": [
      "358 ns ± 1.76 ns per loop (mean ± std. dev. of 7 runs, 1000000 loops each)\n"
     ]
    }
   ],
   "source": [
    "%timeit f3(A)"
   ]
  },
  {
   "cell_type": "markdown",
   "id": "3e7cab7e-6c77-47d5-bf8c-3258a5f65419",
   "metadata": {},
   "source": [
    "使用numpy的求和可以更快(理论上，但在Mac M1上测试发现更慢)："
   ]
  },
  {
   "cell_type": "code",
   "execution_count": 8,
   "id": "2251a03a-ad12-43f5-9e2f-c9b66c06ce7d",
   "metadata": {},
   "outputs": [],
   "source": [
    "import numpy as np\n",
    "d = np.array(A, dtype=np.int8)\n",
    "\n",
    "def f4(d):\n",
    "    return np.sum(d) - n\n",
    "\n",
    "assert f4(d) == m, 'wrong'"
   ]
  },
  {
   "cell_type": "code",
   "execution_count": 9,
   "id": "8e47202a-6380-47e2-bc36-64b9f10e9363",
   "metadata": {},
   "outputs": [
    {
     "name": "stdout",
     "output_type": "stream",
     "text": [
      "1.71 µs ± 4.98 ns per loop (mean ± std. dev. of 7 runs, 1000000 loops each)\n"
     ]
    }
   ],
   "source": [
    "%timeit f4(d)"
   ]
  },
  {
   "cell_type": "markdown",
   "id": "c531d046-5e84-4826-b977-b5ef5ba96375",
   "metadata": {},
   "source": [
    "### 下附各种求和函数的对比："
   ]
  },
  {
   "cell_type": "code",
   "execution_count": 101,
   "id": "5b22f92c-d60a-4bff-a4f1-fff544ad4530",
   "metadata": {},
   "outputs": [
    {
     "name": "stdout",
     "output_type": "stream",
     "text": [
      "319 ns ± 0.15 ns per loop (mean ± std. dev. of 7 runs, 1000000 loops each)\n"
     ]
    }
   ],
   "source": [
    "%timeit sum(A)"
   ]
  },
  {
   "cell_type": "code",
   "execution_count": 103,
   "id": "a9b72542-dd03-440f-ada1-07528d1e9927",
   "metadata": {},
   "outputs": [
    {
     "name": "stdout",
     "output_type": "stream",
     "text": [
      "4.58 µs ± 29.2 ns per loop (mean ± std. dev. of 7 runs, 100000 loops each)\n"
     ]
    }
   ],
   "source": [
    "%timeit sum(d)"
   ]
  },
  {
   "cell_type": "code",
   "execution_count": 104,
   "id": "d2467325-2308-4d8c-8d85-84d6568a08c0",
   "metadata": {},
   "outputs": [
    {
     "name": "stdout",
     "output_type": "stream",
     "text": [
      "1.55 µs ± 2.54 ns per loop (mean ± std. dev. of 7 runs, 1000000 loops each)\n"
     ]
    }
   ],
   "source": [
    "%timeit np.sum(d)"
   ]
  },
  {
   "cell_type": "code",
   "execution_count": 105,
   "id": "9907aee4-3035-41e0-8dca-8cf3f71a454b",
   "metadata": {},
   "outputs": [
    {
     "name": "stdout",
     "output_type": "stream",
     "text": [
      "718 ns ± 2.08 ns per loop (mean ± std. dev. of 7 runs, 1000000 loops each)\n"
     ]
    }
   ],
   "source": [
    "%timeit d.sum()"
   ]
  },
  {
   "cell_type": "markdown",
   "id": "37b089d4-0758-4b4c-81f3-c6991aa6704a",
   "metadata": {},
   "source": [
    "## 总结：\n",
    "\n",
    "Mac M1 测试结果：\n",
    "\n",
    "| 算法      | 耗时 |\n",
    "| ----------- | ----------- |\n",
    "|遍历计数法|12.6 µs ± 52.8 ns|\n",
    "|通过哈希表记录|2.1 µs ± 8.73 ns|\n",
    "|求和相减|**358 ns** ± 1.76 ns|\n",
    "|求和相减(np)|1.71 µs ± 4.98 ns per|\n",
    "\n",
    "\n",
    "\n",
    "Windows Intel Xeon W-2123 CPU 3.60GHz 测试结果：\n",
    "\n",
    "| 算法      | 耗时 |\n",
    "| ----------- | ----------- |\n",
    "|遍历计数法|26.8 μs ± 752 ns |\n",
    "|通过哈希表记录| 4.58 μs ± 149 ns|\n",
    "|求和相减| **663 ns** ± 4.92 ns|\n",
    "|求和相减(np)|4.43 μs ± 184 ns |\n",
    "\n",
    "**在Mac M1上和Windows Intel上的测试结果在rank上一致**。"
   ]
  },
  {
   "cell_type": "code",
   "execution_count": null,
   "id": "cc43fa38-ac10-415d-968e-7c919fc60a7f",
   "metadata": {},
   "outputs": [],
   "source": []
  }
 ],
 "metadata": {
  "kernelspec": {
   "display_name": "Python 3 (ipykernel)",
   "language": "python",
   "name": "python3"
  },
  "language_info": {
   "codemirror_mode": {
    "name": "ipython",
    "version": 3
   },
   "file_extension": ".py",
   "mimetype": "text/x-python",
   "name": "python",
   "nbconvert_exporter": "python",
   "pygments_lexer": "ipython3",
   "version": "3.8.10"
  }
 },
 "nbformat": 4,
 "nbformat_minor": 5
}
